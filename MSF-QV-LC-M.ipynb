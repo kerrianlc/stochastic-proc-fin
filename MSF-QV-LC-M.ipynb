{
 "cells": [
  {
   "cell_type": "code",
   "execution_count": 65,
   "metadata": {},
   "outputs": [],
   "source": [
    "# Imports\n",
    "import numpy as np\n",
    "from scipy.stats import norm\n",
    "import matplotlib.pyplot as plt"
   ]
  },
  {
   "cell_type": "code",
   "execution_count": 72,
   "metadata": {},
   "outputs": [],
   "source": [
    "# Parameters for the simulation\n",
    "K = 80\n",
    "S0= 100\n",
    "T = 1\n",
    "r = 0.05\n",
    "lmbda = 1\n",
    "eta = 0.5\n",
    "rho = -0.7\n",
    "N = 2000\n",
    "M = 3000\n",
    "v0 = 0.04\n",
    "v_mean = 0.04"
   ]
  },
  {
   "cell_type": "markdown",
   "metadata": {},
   "source": [
    "1. Discrétiser l’EDS de Black & Scholes avec un schéma d’Euler et un schéma de Milstein. Illustrer les convergences et retrouver les ordres forts et faibles de chacun des schémas."
   ]
  },
  {
   "cell_type": "markdown",
   "metadata": {},
   "source": [
    "L'équation de Black & Scholes s'écrit:\n",
    "\n",
    "$$\n",
    "dS_t = \\mu S_t dt + \\sigma S_t dB_t\n",
    "$$\n",
    "\n",
    "Soit $T \\gt 0$ et $M \\in \\mathbb{N}$ fixés quelconques. On pose $h = \\frac{T}{M}$ le pas de la discrétisation. La discrétisation avec un schéma d'Euler donne:\n",
    "\n",
    "$$\n",
    "\\forall j \\in [\\![1, M]\\!], \\hat{S}_{jh} = \\hat{S}_{(j-1)h} + \\mu \\hat{S}_{(j-1)h}h + \\sigma \\hat{S}_{(j-1)h} \\sqrt{h}Z_j\n",
    "$$"
   ]
  },
  {
   "cell_type": "markdown",
   "metadata": {},
   "source": [
    "Avec le schéma de Milstein, on obtient:\n",
    "\n",
    "$$\n",
    "\\forall j \\in [\\![1, M]\\!], \\hat{S}_{jh} = \\hat{S}_{(j-1)h} + \\mu \\hat{S}_{(j-1)h}h + \\sigma \\hat{S}_{(j-1)h} \\sqrt{h}Z_j + \\frac{1}{2}\\sigma^2 \\hat{S}_{(j-1)h}(Z_j^2 - 1)h\n",
    "$$"
   ]
  },
  {
   "cell_type": "markdown",
   "metadata": {},
   "source": [
    "2. Implémenter le pricing d'un call standard dans le modèle de Heston par Monte Carlo, avec le schéma d'Euler simple proposé."
   ]
  },
  {
   "cell_type": "code",
   "execution_count": 61,
   "metadata": {},
   "outputs": [
    {
     "name": "stdout",
     "output_type": "stream",
     "text": [
      "25.546870397680657\n"
     ]
    }
   ],
   "source": [
    "def MC_heston(S0: float, T: float, r: float, N: int, M: int, v0: float, v_mean: float, lmbda: float, eta: float, rho: float) -> np.array:\n",
    "    \"\"\"\n",
    "    Monte Carlo simulation with Heston model\n",
    "\n",
    "    **INPUT:**\n",
    "    - S0: initial price of the underlying\n",
    "    - T: Horizon\n",
    "    - r: risk-free rate\n",
    "    - N: Number of simulations to perform\n",
    "    - M: Number of steps in discretization\n",
    "    - v0: initial variance\n",
    "    - v_m: variance average\n",
    "    - lmbda: coefficient of the dt part of the CIR process\n",
    "    - eta: coefficient of the dBt part of the CIR process\n",
    "    - rho: correlation between the two brownian motions\n",
    "\n",
    "    **OUTPUT:**\n",
    "    - S_t: simulated trajectories of the underlying with the Heston model\n",
    "    \"\"\"\n",
    "    # Initialization of useful params\n",
    "    dt = T/M\n",
    "    Xt = np.zeros((N, M))\n",
    "    Xt[:, 0] = np.log(S0)\n",
    "    vt = np.zeros((N, M))\n",
    "    vt[:, 0] = v0\n",
    "\n",
    "    # Simulation of the correlated brownian motions\n",
    "    m_cov = [[1, rho], [rho, 1]]\n",
    "    l_mean = [0, 0]\n",
    "    b_ms = np.random.multivariate_normal(mean=l_mean, cov=m_cov, size=(N, M))\n",
    "    z1, z2 = b_ms[:, :, 0], b_ms[:, :, 1]\n",
    "\n",
    "    # Calculation of the log returns and variances for each step\n",
    "    for step in range(1, M):\n",
    "        Xt[:, step] = Xt[:, step-1] + (r - (1/2) * vt[:, step-1]) * dt + np.sqrt(np.abs(vt[:, step-1]) * dt) * z1[:, step]\n",
    "        vt[:, step] = vt[:, step-1] - lmbda * (vt[:, step-1] - v_mean) * dt + eta * np.sqrt(np.abs(vt[:, step-1]) * dt) * z2[:, step]\n",
    "    St = np.exp(Xt)\n",
    "    return St\n",
    "\n",
    "St = MC_heston(S0, T, r, N, M, v0, v_mean, lmbda, eta, rho)  \n",
    "\n",
    "def MC_call_price(St: np.array, K: float) -> float:\n",
    "    \"\"\"\n",
    "    Calculates the european call price based on the given MC simulated\n",
    "    trajectories of a particular model\n",
    "\n",
    "    **INPUT**\n",
    "    - St: Monte Carlo simulations of the underlying performed using a model\n",
    "\n",
    "    **OUTPUT**\n",
    "    - call_price: price of the european call worked out using Monte Carlo simulation\n",
    "    \"\"\"\n",
    "    \n",
    "    return np.mean(np.exp(-r * T) * np.maximum(St[:, -1] - K, 0))\n",
    "    \n",
    "print(MC_call_price(St=St, K=K))"
   ]
  },
  {
   "cell_type": "markdown",
   "metadata": {},
   "source": [
    "3. Implémenter le calcul de la volatilité implicite de Black & Scholes par dichotomie. On peut se ramener à un intervalle borné en écrivant $S_t = \\frac{x}{1 - x}, x \\in [0, 1]$"
   ]
  },
  {
   "cell_type": "code",
   "execution_count": 64,
   "metadata": {},
   "outputs": [
    {
     "name": "stdout",
     "output_type": "stream",
     "text": [
      "0.25703125000000004\n"
     ]
    }
   ],
   "source": [
    "def call_price_black_scholes(K, T, S0, r, sigma):\n",
    "    \"\"\"\n",
    "    Calculate the Black-Scholes price of a European call option.\n",
    "    Parameters:\n",
    "        K (float): Strike price of the option.\n",
    "        T (float): Time to maturity (in years).\n",
    "        S0 (float): Current price of the underlying asset.\n",
    "        r (float): Risk-free interest rate.\n",
    "        sigma (float): Volatility of the underlying asset.\n",
    "    Returns:\n",
    "        float: The Black-Scholes price of the European call option.\n",
    "    \n",
    "    \"\"\"\n",
    "    d1 = 1 / (sigma * np.sqrt(T)) * (np.log(S0 / K) + (r + sigma**2 / 2) * T)\n",
    "    d2 = d1 - sigma * np.sqrt(T)\n",
    "    return S0 * norm.cdf(d1) - K * np.exp(-r * T) * norm.cdf(d2)\n",
    "\n",
    "def implied_vol(C_market, S0, K, T, r, eps = 0.01):\n",
    "    \"\"\"\n",
    "    Calculates the implied volatility of a Black & Scholes call\n",
    "    using a dichotomy method\n",
    "\n",
    "    **INPUT**\n",
    "    - C_market: European call market price\n",
    "    - S0: Current price of the underlying\n",
    "    - K: Strike price of the call\n",
    "    - T: maturity of the call\n",
    "    - r: risk free rate\n",
    "    - eps: error margin for when to stop the dichotomy\n",
    "\n",
    "    **OUTPUT**\n",
    "\n",
    "    \"\"\"\n",
    "    # Testing if implied volatility can be worked out\n",
    "\n",
    "    lower_call_bound = np.maximum(S0 - K * np.exp(-r * T), 0)\n",
    "    upper_call_bound = S0\n",
    "    if (C_market < lower_call_bound) or (C_market > upper_call_bound):\n",
    "        print(\"Market price is out of bounds for unique volatility\")\n",
    "        return None\n",
    "    \n",
    "    # Initialization of lower and upper bounds for sigma\n",
    "    l_sigma = 0.1\n",
    "    while call_price_black_scholes(K=K, T=T, S0=S0, r=r, sigma=l_sigma) > C_market:\n",
    "        l_sigma /=2\n",
    "    u_sigma = 0.4\n",
    "    while call_price_black_scholes(K=K, T=T, S0=S0, r=r, sigma=u_sigma) < C_market:\n",
    "        u_sigma *= 2\n",
    "\n",
    "    # Initialization\n",
    "    sigma = (l_sigma + u_sigma)/2\n",
    "    c_est = call_price_black_scholes(K=K, T=T, S0=S0, r=r, sigma=sigma)\n",
    "    c_diff = C_market - c_est\n",
    "    \n",
    "\n",
    "    while (abs(c_diff) > eps):\n",
    "        if c_diff > 0:\n",
    "            # volatility is too low in this case\n",
    "            l_sigma = sigma\n",
    "        else:\n",
    "            # volatility is too high\n",
    "            u_sigma = sigma\n",
    "        sigma = (l_sigma + u_sigma) / 2\n",
    "        c_est = call_price_black_scholes(K=K, T=T, S0=S0, r=r, sigma=sigma)\n",
    "        c_diff = C_market - c_est\n",
    "    return sigma\n",
    "\n",
    "print(implied_vol(25.546870397680657, S0, K, T, r))"
   ]
  },
  {
   "cell_type": "markdown",
   "metadata": {},
   "source": [
    "4. Tracer un exemple de smile de volatilité dans le modèle de Heston. Commenter."
   ]
  },
  {
   "cell_type": "code",
   "execution_count": 99,
   "metadata": {},
   "outputs": [
    {
     "data": {
      "image/png": "[encoded data removed]",
      "text/plain": [
       "<Figure size 640x480 with 1 Axes>"
      ]
     },
     "metadata": {},
     "output_type": "display_data"
    }
   ],
   "source": [
    "l_k = [10*k for k in range(6, 15)]\n",
    "St = MC_heston(S0, T, r, N, M, v0, v_mean, lmbda, eta, rho)\n",
    "l_implied_vols = []\n",
    "for k in l_k:\n",
    "    C_heston = MC_call_price(St=St, K=k)\n",
    "    k_implied_vol = implied_vol(C_market=C_heston, S0=S0, K=k, T=T, r=r)\n",
    "    l_implied_vols.append(k_implied_vol)\n",
    "plt.plot(l_k, l_implied_vols, label=\"Heston implied volatility smile\")\n",
    "plt.ylabel(\"Implied volatility\")\n",
    "plt.xlabel(\"Strike price\")\n",
    "plt.legend()\n",
    "plt.show()"
   ]
  },
  {
   "cell_type": "markdown",
   "metadata": {},
   "source": [
    "Nous pouvons observer que plus le strike price est élevé, plus la volatilité implicite est faible, et ce même si l'option est out of the money."
   ]
  }
 ],
 "metadata": {
  "kernelspec": {
   "display_name": "msf",
   "language": "python",
   "name": "python3"
  },
  "language_info": {
   "codemirror_mode": {
    "name": "ipython",
    "version": 3
   },
   "file_extension": ".py",
   "mimetype": "text/x-python",
   "name": "python",
   "nbconvert_exporter": "python",
   "pygments_lexer": "ipython3",
   "version": "3.10.12"
  }
 },
 "nbformat": 4,
 "nbformat_minor": 2
}

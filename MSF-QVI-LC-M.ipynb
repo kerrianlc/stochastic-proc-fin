{
 "cells": [
  {
   "cell_type": "code",
   "execution_count": 3,
   "metadata": {},
   "outputs": [],
   "source": [
    "# Parameters\n",
    "\n",
    "S0 = 100\n",
    "r = 0.05\n",
    "sigma = 0.2\n",
    "K = 100\n",
    "T = 2\n",
    "lmbda_t = 2\n",
    "mu_J  = -0.02\n",
    "sigma_J = 0.2"
   ]
  },
  {
   "cell_type": "code",
   "execution_count": 10,
   "metadata": {},
   "outputs": [],
   "source": [
    "# Imports\n",
    "\n",
    "import numpy as np\n",
    "from math import factorial, exp, sqrt\n",
    "from scipy.stats import norm, lognorm\n",
    "import matplotlib.pyplot as plt"
   ]
  },
  {
   "cell_type": "markdown",
   "metadata": {},
   "source": [
    "# **Question 1**\n",
    "\n",
    "En terminant le raisonnement du slide précédent, écrire la formule du pricing explicite du prix du call dans le modèle avec sauts."
   ]
  },
  {
   "cell_type": "markdown",
   "metadata": {},
   "source": [
    "D'après le slide précédent, nous avons:\n",
    "\n",
    "$$\n",
    "S_t = S_0 e^{(r - \\tilde{\\beta}\\tilde{\\lambda} - \\frac{\\sigma^{2}}{2})t + \\sigma B_t}e^{\\sum_{i=1}^{N_t}\\log(1+Y_i)}\n",
    "$$\n",
    "\n",
    "et\n",
    "\n",
    "$$\n",
    "\\log(\\frac{S_t}{S_0}) | N_t = j\\hookrightarrow \\mathcal{N}((r - \\tilde{\\beta}\\tilde{\\lambda} - \\frac{\\sigma^{2}}{2})t + j\\mu_J, \\sigma^2t + j \\sigma_J^2)\n",
    "$$\n",
    "\n",
    "On a donc:\n",
    "\n",
    "$$\n",
    "C(0, S_0) = \\sum_{j=0}^{+ \\infty} e^{-\\tilde{\\lambda}T}\\frac{(\\tilde{\\lambda}T)^j}{j!}\\mathbb{E}^{\\mathbb{Q}}(e^{-rT}(S_0 e^{(r - \\tilde{\\beta}\\tilde{\\lambda} - \\frac{\\sigma^{2}}{2})T + \\sigma B_T}e^{\\sum_{i=1}^{j}\\log(1+Y_i)} - K)_+)\n",
    "$$\n",
    "\n",
    "Or:\n",
    "\n",
    "$$\n",
    "(r - \\tilde{\\beta}\\tilde{\\lambda} - \\frac{\\sigma^{2}}{2})T + j\\mu_J + \\sqrt{\\frac{\\sigma^2T + j \\sigma_J^2}{T}}B_T \\hookrightarrow \\mathcal{N}((r - \\tilde{\\beta}\\tilde{\\lambda} - \\frac{\\sigma^{2}}{2})T + j\\mu_J, \\sigma^2T + j \\sigma_J^2)\n",
    "$$"
   ]
  },
  {
   "cell_type": "markdown",
   "metadata": {},
   "source": [
    "D'où:\n",
    "\n",
    "$$\n",
    "C(0, S_0) = \\sum_{j=0}^{+ \\infty} e^{-\\tilde{\\lambda}T}\\frac{(\\tilde{\\lambda}T)^j}{j!}\\mathbb{E}^{\\mathbb{Q}}(e^{-rT}(S_0 e^{(r - \\tilde{\\beta}\\tilde{\\lambda} - \\frac{\\sigma^{2}}{2})T + j\\mu_J + \\sqrt{\\frac{\\sigma^2T + j \\sigma_J^2}{T}}B_T} - K)_+)\n",
    "$$\n",
    "\n",
    "En posant $\\sigma_j = \\sqrt{\\frac{\\sigma^2T + j \\sigma_J^2}{T}}$, on obtient:\n",
    "\n",
    "$$\n",
    "C(0, S_0) = \\sum_{j=0}^{+ \\infty} e^{-\\tilde{\\lambda}T}\\frac{(\\tilde{\\lambda}T)^j}{j!}\\mathbb{E}^{\\mathbb{Q}}(e^{-rT}(S_0 e^{(r - \\tilde{\\beta}\\tilde{\\lambda} - \\frac{\\sigma^{2} + \\frac{j}{T}\\sigma_J^2 - \\frac{j}{T}\\sigma_J^2}{2})T + j\\mu_J + \\sigma_jB_T} - K)_+)\n",
    "$$\n",
    "\n",
    "i.e.\n",
    "\n",
    "$$\n",
    "C(0, S_0) = \\sum_{j=0}^{+ \\infty} e^{-\\tilde{\\lambda}T}\\frac{(\\tilde{\\lambda}T)^j}{j!}\\mathbb{E}^{\\mathbb{Q}}(e^{-rT}(S_0 e^{(r - \\tilde{\\beta}\\tilde{\\lambda} - \\frac{\\sigma_j^2}{2})T + j\\mu_J + \\frac{j}{2}\\sigma_J^2 + \\sigma_jB_T} - K)_+) = \\sum_{j=0}^{+ \\infty} e^{-\\tilde{\\lambda}T}\\frac{(\\tilde{\\lambda}T)^j}{j!}\\mathbb{E}^{\\mathbb{Q}}(e^{-rT}(S_0e^{- \\tilde{\\beta}\\tilde{\\lambda}T + j\\mu_J + \\frac{j}{2}\\sigma_J^2 } e^{(r - \\frac{\\sigma_j^2}{2})T + \\sigma_jB_T} - K)_+)\n",
    "$$\n",
    "\n"
   ]
  },
  {
   "cell_type": "markdown",
   "metadata": {},
   "source": [
    "En notant $C_{BS}(K, T, s, r, \\sigma)$ le prix d'un call européen dans le cadre du modèle de Black & Scholes, on obtient la formule explicite suivante:\n",
    "\n",
    "$$\n",
    "C(0, S_0) = \\sum_{j=0}^{+ \\infty} e^{-\\tilde{\\lambda}T}\\frac{(\\tilde{\\lambda}T)^j}{j!} C_{BS}(K, T, S_0e^{- \\tilde{\\beta}\\tilde{\\lambda}T + j\\mu_J + \\frac{j}{2}\\sigma_J^2 }, r, \\sigma_j)\n",
    "$$"
   ]
  },
  {
   "cell_type": "markdown",
   "metadata": {},
   "source": [
    "# **Question 2**\n",
    "\n",
    "Etudier la convergence du prix en fonction du nombre de termes de la somme."
   ]
  },
  {
   "cell_type": "markdown",
   "metadata": {},
   "source": [
    "Nous avons dans la formule précédente que:\n",
    "\n",
    "$$\n",
    "\\tilde{\\beta} = \\mathbb{E}(Y_1)\n",
    "$$\n",
    "\n",
    "En notant $Z \\hookrightarrow \\mathcal{N}(\\mu_J, \\sigma_J)$, on a $Y_1 = e^{Z} - 1$ et $\\mathbb{E}(Y_1) = \\mathbb{E}(e^Z) - 1$. En reconnaissant une transformée de Laplace d'une variable aléatoire normale, on obtient donc:\n",
    "\n",
    "$$\n",
    "\\tilde{\\beta} = \\mathbb{E}(Y_1) = e^{\\mu_J + \\frac{\\sigma_J^2}{2}} - 1\n",
    "$$"
   ]
  },
  {
   "cell_type": "code",
   "execution_count": 44,
   "metadata": {},
   "outputs": [
    {
     "name": "stdout",
     "output_type": "stream",
     "text": [
      "Call price in explicit formula is: 23.30969800543899\n"
     ]
    }
   ],
   "source": [
    "def call_price_black_scholes(K, T, S0, r, sigma):\n",
    "    \"\"\"\n",
    "    Calculate the Black-Scholes price of a European call option.\n",
    "    Parameters:\n",
    "        K (float): Strike price of the option.\n",
    "        T (float): Time to maturity (in years).\n",
    "        S0 (float): Current price of the underlying asset.\n",
    "        r (float): Risk-free interest rate.\n",
    "        sigma (float): Volatility of the underlying asset.\n",
    "    Returns:\n",
    "        float: The Black-Scholes price of the European call option.\n",
    "    \n",
    "    \"\"\"\n",
    "    d1 = 1 / (sigma * np.sqrt(T)) * (np.log(S0 / K) + (r + sigma**2 / 2) * T)\n",
    "    d2 = d1 - sigma * np.sqrt(T)\n",
    "    return S0 * norm.cdf(d1) - K * np.exp(-r * T) * norm.cdf(d2)\n",
    "\n",
    "def jth_sum_term(S0: float, r: float, sigma: float, K: float, T: float, lmbda_t: float, mu_J: float, sigma_J: float, beta_t: float, j: int) -> float:\n",
    "    \"\"\"\n",
    "    Works out the jth term in the jump diffusion model explicit pricing formula.\n",
    "\n",
    "    **INPUT:**\n",
    "        - S0: Current price of the underlying asset.\n",
    "        - r: Risk-free interest rate.\n",
    "        - sigma: Volatility of the underlying asset.\n",
    "        - K: Strike price of the option.\n",
    "        - T: Time to maturity (in years).\n",
    "        - lmbda_t: sum of the Poisson process intensities\n",
    "        - mu_J: mean of log(1 + Y1)\n",
    "        - sigma_J: std of log(1 + Y1)\n",
    "        - beta_t: mean of Y1\n",
    "        - j: Current term of the sum being calculated\n",
    "\n",
    "    **Output:**\n",
    "        - jth_term: Value of the jth term in the sum\n",
    "    \"\"\"\n",
    "    sigma_j = sqrt(((sigma ** 2) * T + j *(sigma_J ** 2)) / (T))\n",
    "    S0_j = S0 * exp(j * mu_J + 0.5 * j * (sigma_J ** 2) - lmbda_t * beta_t * T)\n",
    "    jth_term = exp(-(lmbda_t * T)) * ((lmbda_t * T) ** j / factorial(j)) * call_price_black_scholes(K=K, T=T, S0=S0_j, r=r, sigma=sigma_j)\n",
    "    return jth_term\n",
    "\n",
    "def call_jd_model_price(S0: float, r: float, sigma: float, K: float, T: float, lmbda_t: float, mu_J: float, sigma_J: float, N: int = 30):\n",
    "    \"\"\"\n",
    "    Works out the european call price under the jump diffusion model.\n",
    "\n",
    "    **INPUT:**\n",
    "        - S0: Current price of the underlying asset.\n",
    "        - r: Risk-free interest rate.\n",
    "        - sigma: Volatility of the underlying asset.\n",
    "        - K: Strike price of the option.\n",
    "        - T: Time to maturity (in years).\n",
    "        - lmbda_t: sum of the Poisson process intensities\n",
    "        - mu_J: mean of log(1 + Y1)\n",
    "        - sigma_J: std of log(1 + Y1)\n",
    "        - N: Number of possible jumps in the model\n",
    "\n",
    "    **OUTPUT:**\n",
    "        - curr_call_jd_price: price of the call\n",
    "    \"\"\"\n",
    "    # Initialisation\n",
    "    j=0\n",
    "    beta_t = exp(mu_J + ((sigma_J ** 2) / 2)) - 1\n",
    "    prev_call_jd_price = 0\n",
    "    curr_call_jd_price = jth_sum_term(S0=S0, r=r, sigma=sigma, K=K, T=T, lmbda_t=lmbda_t, mu_J=mu_J, sigma_J=sigma_J, beta_t=beta_t, j=j)\n",
    "    while j <= N:\n",
    "        j += 1\n",
    "        prev_call_jd_price = curr_call_jd_price\n",
    "        curr_call_jd_price += jth_sum_term(S0=S0, r=r, sigma=sigma, K=K, T=T, lmbda_t=lmbda_t, mu_J=mu_J, sigma_J=sigma_J, beta_t=beta_t, j=j)\n",
    "    return curr_call_jd_price\n",
    "\n",
    "call_price = call_jd_model_price(S0=S0, r=r, sigma=sigma, K=K, T=T, lmbda_t=lmbda_t, mu_J=mu_J, sigma_J=sigma_J)\n",
    "print(f\"Call price in explicit formula is: {call_price}\")"
   ]
  },
  {
   "cell_type": "markdown",
   "metadata": {},
   "source": [
    "Observons la convergence du prix en fonction du nombre de termes de la somme"
   ]
  },
  {
   "cell_type": "code",
   "execution_count": 20,
   "metadata": {},
   "outputs": [
    {
     "data": {
      "image/png": "[encoded data removed]",
      "text/plain": [
       "<Figure size 640x480 with 1 Axes>"
      ]
     },
     "metadata": {},
     "output_type": "display_data"
    }
   ],
   "source": [
    "call_prices = []\n",
    "for n in range(1, 31):\n",
    "    call_prices.append(call_jd_model_price(S0=S0, r=r, sigma=sigma, K=K, T=T, lmbda_t=lmbda_t, mu_J=mu_J, sigma_J=sigma_J, N=n)[0])\n",
    "plt.plot(range(1, 31), call_prices)\n",
    "plt.xlabel(\"Number of jumps considered\")\n",
    "plt.ylabel(\"Call price\")\n",
    "plt.show()"
   ]
  },
  {
   "cell_type": "markdown",
   "metadata": {},
   "source": [
    "Nous observons que le prix converge bien vers une valeur proche de 23.3"
   ]
  },
  {
   "cell_type": "markdown",
   "metadata": {},
   "source": [
    "# **Question 3**\n",
    "\n",
    "Implémenter le pricing Monte-Carlo du prix du call dans le modèle avec sauts et vérifier sa convergence vers le prix exact."
   ]
  },
  {
   "cell_type": "markdown",
   "metadata": {},
   "source": [
    "D'après les hypothèses, $1 + Y_i$ suit une loi log-normale de paramètres $(\\sigma_J, e^{\\mu_J})$"
   ]
  },
  {
   "cell_type": "code",
   "execution_count": 43,
   "metadata": {},
   "outputs": [
    {
     "name": "stdout",
     "output_type": "stream",
     "text": [
      "23.21359593008722\n"
     ]
    }
   ],
   "source": [
    "def MC_jumps(mu_J: float, sigma_J: float, N: int, n: int) -> np.ndarray:\n",
    "    \"\"\"\n",
    "    Simulates the jumps in the jump diffusion model for Monte Carlo pricing\n",
    "\n",
    "    **INPUT:**\n",
    "        - mu_J: mean of the lognormal distribution\n",
    "        - sigma_J: std of the lognormal distribution\n",
    "        - N: maximum number of jumps in the model\n",
    "        - n: number of observations per jump\n",
    "\n",
    "    **OUTPUT:**\n",
    "        - MC_jumps_array: array containing the simulated jumps\n",
    "    \"\"\"\n",
    "    MC_jumps_array = np.insert(lognorm.rvs(s=sigma_J, scale=exp(mu_J), size=(n, N)), 0, 1, axis=1).cumprod(axis=1)\n",
    "    return MC_jumps_array\n",
    "\n",
    "\n",
    "def call_jd_model_MC_price(S0: float, r: float, sigma: float, K: float, T: float, lmbda_t: float, mu_J: float, sigma_J: float, N: int, n: int):\n",
    "    \"\"\"\n",
    "    \"\"\"\n",
    "    MC_jumps_array = MC_jumps(mu_J=mu_J, sigma_J=sigma_J, N=N, n=n)\n",
    "    \n",
    "    # Working out the BS call prices for the different number of jumps\n",
    "    beta_t = exp(mu_J + ((sigma_J ** 2) / 2)) - 1\n",
    "    S0_jumps = S0 * exp(-beta_t * lmbda_t * T) * MC_jumps_array\n",
    "    d1_jumps = 1 / (sigma * np.sqrt(T)) * (np.log(S0_jumps / K) + (r + sigma**2 / 2) * T)\n",
    "    d2_jumps = d1_jumps - sigma * np.sqrt(T)\n",
    "    BS_prices = S0_jumps * norm.cdf(d1_jumps) - K * np.exp(-r * T) * norm.cdf(d2_jumps)\n",
    "\n",
    "    # Probability distributions for poisson\n",
    "    probs = [exp(- lmbda_t * T) * ((lmbda_t  *T) ** j) / factorial(j) for j in range(N+1)]\n",
    "    return np.dot(probs, BS_prices.mean(axis=0))\n",
    "\n",
    "call_MC_price = call_jd_model_MC_price(S0=S0, r=r, sigma=sigma, K=K, T=T, lmbda_t=lmbda_t, mu_J=mu_J, sigma_J=sigma_J, N=30, n=30000)\n",
    "print(call_MC_price)"
   ]
  },
  {
   "cell_type": "markdown",
   "metadata": {},
   "source": [
    "Pour $n=10^7$, nous retombons bien sur la valeur obtenue avec la formule explicite."
   ]
  },
  {
   "cell_type": "markdown",
   "metadata": {},
   "source": [
    "# **Question 4**\n",
    "\n",
    "Tracer le smile de volatilité implicite engendré par le modèle à sauts et analyser. Commenter."
   ]
  },
  {
   "cell_type": "markdown",
   "metadata": {},
   "source": [
    "On commence par calculer les différents prix de calls dans le modèle à saut, pour ensuite en déduire les volatilités implicites avec une méthode de dichotomie."
   ]
  },
  {
   "cell_type": "code",
   "execution_count": 45,
   "metadata": {},
   "outputs": [
    {
     "data": {
      "image/png": "[encoded data removed]",
      "text/plain": [
       "<Figure size 640x480 with 1 Axes>"
      ]
     },
     "metadata": {},
     "output_type": "display_data"
    }
   ],
   "source": [
    "def implied_vol(C_market, S0, K, T, r, eps = 0.01):\n",
    "    \"\"\"\n",
    "    Calculates the implied volatility of a Black & Scholes call\n",
    "    using a dichotomy method\n",
    "\n",
    "    **INPUT**\n",
    "    - C_market: European call market price\n",
    "    - S0: Current price of the underlying\n",
    "    - K: Strike price of the call\n",
    "    - T: maturity of the call\n",
    "    - r: risk free rate\n",
    "    - eps: error margin for when to stop the dichotomy\n",
    "\n",
    "    **OUTPUT**\n",
    "\n",
    "    \"\"\"\n",
    "    # Testing if implied volatility can be worked out\n",
    "\n",
    "    lower_call_bound = np.maximum(S0 - K * np.exp(-r * T), 0)\n",
    "    upper_call_bound = S0\n",
    "    if (C_market < lower_call_bound) or (C_market > upper_call_bound):\n",
    "        print(\"Market price is out of bounds for unique volatility\")\n",
    "        return None\n",
    "    \n",
    "    # Initialization of lower and upper bounds for sigma\n",
    "    l_sigma = 0.1\n",
    "    while call_price_black_scholes(K=K, T=T, S0=S0, r=r, sigma=l_sigma) > C_market:\n",
    "        l_sigma /=2\n",
    "    u_sigma = 0.4\n",
    "    while call_price_black_scholes(K=K, T=T, S0=S0, r=r, sigma=u_sigma) < C_market:\n",
    "        u_sigma *= 2\n",
    "\n",
    "    # Initialization\n",
    "    sigma = (l_sigma + u_sigma)/2\n",
    "    c_est = call_price_black_scholes(K=K, T=T, S0=S0, r=r, sigma=sigma)\n",
    "    c_diff = C_market - c_est\n",
    "    \n",
    "\n",
    "    while (abs(c_diff) > eps):\n",
    "        if c_diff > 0:\n",
    "            # volatility is too low in this case\n",
    "            l_sigma = sigma\n",
    "        else:\n",
    "            # volatility is too high\n",
    "            u_sigma = sigma\n",
    "        sigma = (l_sigma + u_sigma) / 2\n",
    "        c_est = call_price_black_scholes(K=K, T=T, S0=S0, r=r, sigma=sigma)\n",
    "        c_diff = C_market - c_est\n",
    "    return sigma\n",
    "\n",
    "l_k = [10*k for k in range(6, 15)]\n",
    "l_implied_vols = []\n",
    "for k in l_k:\n",
    "    c_jd = call_price = call_jd_model_price(S0=S0, r=r, sigma=sigma, K=k, T=T, lmbda_t=lmbda_t, mu_J=mu_J, sigma_J=sigma_J)\n",
    "    k_implied_vol = implied_vol(C_market=c_jd, S0=S0, K=k, T=T, r=r)\n",
    "    l_implied_vols.append(k_implied_vol)\n",
    "plt.plot(l_k, l_implied_vols, label=\"Jump diffusion implied volatility smile\")\n",
    "plt.title(\"Jump diffusion implied volatility smile\")\n",
    "plt.ylabel(\"Implied volatility $\\sigma$\")\n",
    "plt.xlabel(\"Strike price $K$\")\n",
    "plt.legend()\n",
    "plt.show()"
   ]
  },
  {
   "cell_type": "markdown",
   "metadata": {},
   "source": [
    "Nous pouvons voir que la volatilité implicite reste bien plus haute dans ce modèle que celle dans un modèle de Heston par exemple. Ceci est lié au fait que les sauts introduisent plus de volatilité dans le modèle, ce qui a donc pour conséquence d'augmenter les prix des calls dans le cadre du modèle, et donc par conséquent d'augmenter la valeur de la volatilité implicite."
   ]
  }
 ],
 "metadata": {
  "kernelspec": {
   "display_name": "msf",
   "language": "python",
   "name": "python3"
  },
  "language_info": {
   "codemirror_mode": {
    "name": "ipython",
    "version": 3
   },
   "file_extension": ".py",
   "mimetype": "text/x-python",
   "name": "python",
   "nbconvert_exporter": "python",
   "pygments_lexer": "ipython3",
   "version": "3.10.12"
  }
 },
 "nbformat": 4,
 "nbformat_minor": 2
}
